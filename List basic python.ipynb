{
 "cells": [
  {
   "cell_type": "markdown",
   "metadata": {},
   "source": [
    "# Swap the first and the last number of list\n",
    "  Take 1 temporary variable  and using that just shuffle the values"
   ]
  },
  {
   "cell_type": "code",
   "execution_count": 6,
   "metadata": {},
   "outputs": [
    {
     "name": "stdout",
     "output_type": "stream",
     "text": [
      "[4, 2, 3, 1]\n"
     ]
    }
   ],
   "source": [
    "# Approach 1\n",
    "list =[1,2,3,4]\n",
    "temp = list[0]\n",
    "list[0] = list[-1]\n",
    "list[-1] = temp\n",
    "print(list)"
   ]
  },
  {
   "cell_type": "code",
   "execution_count": 8,
   "metadata": {},
   "outputs": [
    {
     "name": "stdout",
     "output_type": "stream",
     "text": [
      "[4, 2, 3, 1]\n"
     ]
    }
   ],
   "source": [
    "#Second approach\n",
    "list = [1,2,3,4]\n",
    "list[0],list[-1] = list[-1],list[0]\n",
    "print(list)"
   ]
  },
  {
   "cell_type": "markdown",
   "metadata": {},
   "source": [
    "# Python program to swap two elements in a list\n",
    "Given a list in Python and provided the positions of the elements, write a program to swap the two elements in the list.\n",
    "Input : List = [1, 2, 3, 4, 5], pos1 = 2, pos2 = 5\n",
    "Output : [1, 5, 3, 4, 2]"
   ]
  },
  {
   "cell_type": "markdown",
   "metadata": {},
   "source": [
    "def swapelements(newlist):\n",
    "    size = len(newlist)\n",
    "    temp = newlist[1]\n",
    "    newlist[1] = newlist[-1]\n",
    "    newlist[-1]= temp \n",
    "    return newlist\n",
    "    \n",
    "list = [1, 2, 3, 4, 5]\n",
    "swapelements(list)"
   ]
  },
  {
   "cell_type": "code",
   "execution_count": null,
   "metadata": {},
   "outputs": [],
   "source": []
  },
  {
   "cell_type": "markdown",
   "metadata": {},
   "source": [
    "# Remove the duplicate element in a list"
   ]
  },
  {
   "cell_type": "code",
   "execution_count": 26,
   "metadata": {},
   "outputs": [
    {
     "name": "stdout",
     "output_type": "stream",
     "text": [
      "['Hello', 'test', 'this', 'a', 'Ok', 'is']\n"
     ]
    }
   ],
   "source": [
    "listelement = ['Hello', 'Ok', 'is', 'Ok', 'test', 'this', 'is', 'a', 'test']\n",
    "listelement = set(listelement)\n",
    "uniquelist = []\n",
    "for element in listelement:\n",
    "    if element in listelement:\n",
    "        uniquelist.append(element)\n",
    "print(uniquelist)\n"
   ]
  },
  {
   "cell_type": "markdown",
   "metadata": {},
   "source": [
    "# check if the number exists in the list"
   ]
  },
  {
   "cell_type": "code",
   "execution_count": 38,
   "metadata": {},
   "outputs": [
    {
     "name": "stdout",
     "output_type": "stream",
     "text": [
      "false\n"
     ]
    }
   ],
   "source": [
    "list = [1,2,3,4]\n",
    "\n",
    "if 10 in list:\n",
    "    print(\"true\")\n",
    "else:\n",
    "    print(\"false\")"
   ]
  },
  {
   "cell_type": "markdown",
   "metadata": {},
   "source": [
    "# Different ways to clear a list in Python"
   ]
  },
  {
   "cell_type": "code",
   "execution_count": 41,
   "metadata": {},
   "outputs": [
    {
     "name": "stdout",
     "output_type": "stream",
     "text": [
      "[1, 2, 3, 4]\n",
      "[]\n",
      "[]\n"
     ]
    }
   ],
   "source": [
    "# Approach 1 \n",
    "list = [1,2,3,4]\n",
    "print(list)\n",
    "list.clear()\n",
    "print(list)\n",
    "# Approach 2 Reinitialization\n",
    "\n",
    "list = [1,2,3,4]\n",
    "list = []\n",
    "print(list)"
   ]
  },
  {
   "cell_type": "markdown",
   "metadata": {},
   "source": [
    "# reverse a list"
   ]
  },
  {
   "cell_type": "code",
   "execution_count": 44,
   "metadata": {},
   "outputs": [
    {
     "name": "stdout",
     "output_type": "stream",
     "text": [
      "[4, 3, 2, 1]\n",
      "[4, 3, 2, 1]\n"
     ]
    }
   ],
   "source": [
    "# Approach 1\n",
    "list = [1, 2, 3, 4]\n",
    "list.reverse()\n",
    "print(list)\n",
    "#Approach 2\n",
    "list = [1, 2, 3, 4]\n",
    "list[0],list[1],list[2],list[3] = list[3], list[2], list[1], list[0]\n",
    "print(list)"
   ]
  },
  {
   "cell_type": "markdown",
   "metadata": {},
   "source": [
    "# Cloning or Copying a list\n",
    "\n",
    "## Using slicing technique\n",
    "This is the easiest and the fastest way to clone a list. This method is considered when we want to modify a list and also keep a copy of the original. In this we make a copy of the list itself, along with the reference. This process is also called cloning. This technique takes about 0.039 seconds and is the fastest technique."
   ]
  },
  {
   "cell_type": "code",
   "execution_count": 65,
   "metadata": {},
   "outputs": [
    {
     "data": {
      "text/plain": [
       "[1, 2, 3, 4]"
      ]
     },
     "execution_count": 65,
     "metadata": {},
     "output_type": "execute_result"
    }
   ],
   "source": [
    "def list(list):\n",
    "    list_copy = list[:]\n",
    "    return list_copy\n",
    "list2 = [1, 2, 3, 4]\n",
    "list(list2)\n",
    "# Approach 2 by using list.copy()\n",
    "# Approach 3\n",
    "def copy(list):\n",
    "    copy_list = []\n",
    "    for elements in list:\n",
    "        #print(elements)\n",
    "        copy_list.append(elements)\n",
    "    return copy_list   \n",
    "list2 = [1, 2, 3, 4]\n",
    "copy(list2)"
   ]
  },
  {
   "cell_type": "markdown",
   "metadata": {},
   "source": [
    "# Count occurrences of an element in a list"
   ]
  },
  {
   "cell_type": "code",
   "execution_count": 75,
   "metadata": {},
   "outputs": [
    {
     "name": "stdout",
     "output_type": "stream",
     "text": [
      "5\n"
     ]
    },
    {
     "data": {
      "text/plain": [
       "5"
      ]
     },
     "execution_count": 75,
     "metadata": {},
     "output_type": "execute_result"
    }
   ],
   "source": [
    "list = [1, 2, 3, 4,4,4,4,4,5,5]\n",
    "count = list.count(4)\n",
    "print(count)\n",
    "\n",
    "# Naive Approach\n",
    "def list(list, x):\n",
    "    count = 0\n",
    "    for item in list:\n",
    "        if item == x:\n",
    "            count = count + 1\n",
    "    return count\n",
    "       \n",
    "list3 = [1, 2, 3, 4,4,4,4,4,5,5]\n",
    "y  = 4  \n",
    "list(list3, y)\n"
   ]
  },
  {
   "cell_type": "markdown",
   "metadata": {},
   "source": [
    "## Python program to find sum of elements in list"
   ]
  },
  {
   "cell_type": "code",
   "execution_count": 87,
   "metadata": {},
   "outputs": [
    {
     "data": {
      "text/plain": [
       "40"
      ]
     },
     "execution_count": 87,
     "metadata": {},
     "output_type": "execute_result"
    }
   ],
   "source": [
    "def add(list):\n",
    "    sum = 0\n",
    "    for item in list:\n",
    "        sum = item + sum\n",
    "    return(sum)\n",
    "        \n",
    "list1 = [10, 10, 10, 10]\n",
    "add(list1)\n",
    "        \n",
    "    "
   ]
  },
  {
   "cell_type": "markdown",
   "metadata": {},
   "source": [
    "# Multiply all numbers in the list"
   ]
  },
  {
   "cell_type": "code",
   "execution_count": 91,
   "metadata": {},
   "outputs": [
    {
     "name": "stdout",
     "output_type": "stream",
     "text": [
      "10000\n"
     ]
    }
   ],
   "source": [
    "import numpy as np\n",
    "def mul(list):\n",
    "    element = 1\n",
    "    for item in list:\n",
    "        element = element * item\n",
    "    return(element)\n",
    "list1 = [10, 10, 10, 10]\n",
    "# mul(list1)\n",
    "# Approach 2\n",
    "list = np.prod(list1)\n",
    "print(list)"
   ]
  },
  {
   "cell_type": "markdown",
   "metadata": {},
   "source": [
    "#  Program to find smallest number in a list"
   ]
  },
  {
   "cell_type": "code",
   "execution_count": 133,
   "metadata": {},
   "outputs": [
    {
     "name": "stdout",
     "output_type": "stream",
     "text": [
      "[1, 10, 2, 3, 0]\n",
      "[0]\n"
     ]
    }
   ],
   "source": [
    "def smallest(list):\n",
    "        min1= list[0]\n",
    "        for i in range(len(list)): \n",
    "            #print(list[i])\n",
    "            if list[i] < min1:  \n",
    "                    min1 = list[i]\n",
    "        return min1      \n",
    "list1 = [1,10,2,3,0]\n",
    "# smallest(list1)\n",
    "# Approach 2\n",
    "print(list1)\n",
    "list1.sort()\n",
    "print(list1[:1])"
   ]
  },
  {
   "cell_type": "markdown",
   "metadata": {},
   "source": [
    "# Program to find  largest number in a list"
   ]
  },
  {
   "cell_type": "code",
   "execution_count": 144,
   "metadata": {},
   "outputs": [
    {
     "name": "stdout",
     "output_type": "stream",
     "text": [
      "10\n"
     ]
    }
   ],
   "source": [
    "def largesrt(list):\n",
    "    larg = list[0]\n",
    "    for i in range(len(list)):\n",
    "        if list[i] > larg:\n",
    "            larg = list[i]\n",
    "    return larg\n",
    "list1 = [1,10,2,3,0]\n",
    "# Approach 2\n",
    "# largesrt(list1)\n",
    "list1.sort()\n",
    "print(list1[-1])"
   ]
  },
  {
   "cell_type": "markdown",
   "metadata": {},
   "source": [
    "# Second largest number in the list"
   ]
  },
  {
   "cell_type": "code",
   "execution_count": 165,
   "metadata": {},
   "outputs": [
    {
     "name": "stdout",
     "output_type": "stream",
     "text": [
      "Second highest number is :  13\n"
     ]
    }
   ],
   "source": [
    "# Approach 1\n",
    "def second(list):\n",
    "    list.sort()\n",
    "    return(list[-2])\n",
    "list1 = [1,10,2,3,0]\n",
    "second(list1)\n",
    "#Approach 2\n",
    "list1 = [10, 20,20,11,12,13] \n",
    "mx=max(list1[0],list1[1]) \n",
    "secondmax = min(list1[0],list1[1]) \n",
    "n = len(list1)\n",
    "for i in range(2,n): \n",
    "    if list1[i]>mx:\n",
    "        secondmax=mx \n",
    "        mx=list1[i]\n",
    "    elif list1[i]>secondmax and mx != list1[i]:  \n",
    "        secondmax=list1[i] \n",
    "print(\"Second highest number is : \",str(secondmax))"
   ]
  },
  {
   "cell_type": "markdown",
   "metadata": {},
   "source": [
    "# Python program to find N largest elements from a list"
   ]
  },
  {
   "cell_type": "code",
   "execution_count": 178,
   "metadata": {},
   "outputs": [
    {
     "name": "stdout",
     "output_type": "stream",
     "text": [
      "2\n",
      "6\n",
      "41\n",
      "85\n",
      "2\n",
      "6\n",
      "41\n",
      "[85, 41]\n"
     ]
    }
   ],
   "source": [
    "def Nmaxelements(list1, N): \n",
    "    final_list = [] \n",
    "  \n",
    "    for i in range(0, N):  \n",
    "        max1 = 0\n",
    "          \n",
    "        for j in range(len(list1)):\n",
    "            if list1[j] > max1: \n",
    "                max1 = list1[j]; \n",
    "                print(max1)\n",
    "        \n",
    "                  \n",
    "        list1.remove(max1); \n",
    "        #print(list1)\n",
    "        final_list.append(max1) \n",
    "          \n",
    "    print(final_list) \n",
    "  \n",
    "# Driver code \n",
    "list1 = [2, 6, 41, 85, 0, 3, 7, 6, 10] \n",
    "N = 2\n",
    "  \n",
    "# Calling the function \n",
    "Nmaxelements(list1, N)"
   ]
  },
  {
   "cell_type": "code",
   "execution_count": null,
   "metadata": {},
   "outputs": [],
   "source": [
    "\n",
    "    "
   ]
  }
 ],
 "metadata": {
  "kernelspec": {
   "display_name": "Python 3",
   "language": "python",
   "name": "python3"
  },
  "language_info": {
   "codemirror_mode": {
    "name": "ipython",
    "version": 3
   },
   "file_extension": ".py",
   "mimetype": "text/x-python",
   "name": "python",
   "nbconvert_exporter": "python",
   "pygments_lexer": "ipython3",
   "version": "3.6.10"
  }
 },
 "nbformat": 4,
 "nbformat_minor": 4
}
