{
 "cells": [
  {
   "cell_type": "markdown",
   "metadata": {},
   "source": [
    "## Factorial of any number"
   ]
  },
  {
   "cell_type": "code",
   "execution_count": 19,
   "metadata": {},
   "outputs": [
    {
     "name": "stdout",
     "output_type": "stream",
     "text": [
      "The number is: 5\n"
     ]
    },
    {
     "data": {
      "text/plain": [
       "120"
      ]
     },
     "execution_count": 19,
     "metadata": {},
     "output_type": "execute_result"
    }
   ],
   "source": [
    "def factorial(n):\n",
    "    if n == 1 or n== 0:\n",
    "        return 1\n",
    "    else: \n",
    "        fact = 1\n",
    "        while(n > 1): \n",
    "            fact *= n \n",
    "            #print(\"Fact\", fact)\n",
    "            n -= 1\n",
    "            #print(\"n is:\", n)\n",
    "        return fact \n",
    "        \n",
    "          \n",
    "enter= input(\"The number is: \")\n",
    "enter= int(enter)\n",
    "factorial(enter)"
   ]
  },
  {
   "cell_type": "markdown",
   "metadata": {},
   "source": [
    "# Find SI"
   ]
  },
  {
   "cell_type": "code",
   "execution_count": 27,
   "metadata": {},
   "outputs": [
    {
     "name": "stdout",
     "output_type": "stream",
     "text": [
      "Enter principle:8\n",
      "Enter Rate:6\n",
      "Enter Interest:8\n",
      "The simple interest is:  3.84\n"
     ]
    }
   ],
   "source": [
    "def simpleinterest(p,t,r):\n",
    "    si= (p*t*r) / 100\n",
    "    return si\n",
    "num1= int(input(\"Enter principle:\"))\n",
    "num2 = int(input(\"Enter Rate:\"))\n",
    "num3 = int(input(\"Enter Interest:\"))\n",
    "print(\"The simple interest is: \", simpleinterest(num1, num2 , num3))"
   ]
  },
  {
   "cell_type": "markdown",
   "metadata": {},
   "source": [
    "# From the list type the number which are prime"
   ]
  },
  {
   "cell_type": "code",
   "execution_count": 132,
   "metadata": {},
   "outputs": [
    {
     "name": "stdout",
     "output_type": "stream",
     "text": [
      "3\n",
      "5\n",
      "7\n",
      "11\n",
      "13\n"
     ]
    }
   ],
   "source": [
    "start = 2\n",
    "end = 14\n",
    "  \n",
    "for val in range(start, end + 1): \n",
    "    if val > 1: \n",
    "        for n in range(2, val//2 + 2): \n",
    "            if (val % n) == 0: \n",
    "                break\n",
    "            else: \n",
    "                if n == val//2 + 1:\n",
    "                    #print(n)\n",
    "                    print(val) \n",
    "          "
   ]
  },
  {
   "cell_type": "markdown",
   "metadata": {},
   "source": [
    "# Check whether number is prime or not"
   ]
  },
  {
   "cell_type": "code",
   "execution_count": 86,
   "metadata": {},
   "outputs": [
    {
     "name": "stdout",
     "output_type": "stream",
     "text": [
      "The number is: -2\n",
      "-2 is not a prime number\n"
     ]
    }
   ],
   "source": [
    "# Python program to check if \n",
    "# given number is prime or not \n",
    "\n",
    "num = int(input(\"The number is: \"))\n",
    "\n",
    "# If given number is greater than 1 \n",
    "if num > 1: \n",
    "\n",
    "# Iterate from 2 to n / 2 \n",
    "    for i in range(2, num): \n",
    "        if (num % i) == 0: \n",
    "            print(num, \"is not a prime number\") \n",
    "            break\n",
    "    else: \n",
    "            print(num, \"is a prime number\") \n",
    "\n",
    "else: \n",
    "            print(num, \"is not a prime number\") \n"
   ]
  },
  {
   "cell_type": "markdown",
   "metadata": {},
   "source": [
    "# nth Fabonacci number"
   ]
  },
  {
   "cell_type": "code",
   "execution_count": 157,
   "metadata": {},
   "outputs": [
    {
     "name": "stdout",
     "output_type": "stream",
     "text": [
      "3\n"
     ]
    }
   ],
   "source": [
    "# Function for nth Fibonacci number \n",
    "\n",
    "def Fibonacci(n): \n",
    "\tif n<0: \n",
    "\t\tprint(\"Incorrect input\") \n",
    "\t# First Fibonacci number is 0 \n",
    "\telif n==1: \n",
    "\t\treturn 0\n",
    "\t# Second Fibonacci number is 1 \n",
    "\telif n==2: \n",
    "\t\treturn 1\n",
    "\telse: \n",
    "\t\t return Fibonacci(n-1)+Fibonacci(n-2) \n",
    "         \n",
    "\n",
    "# Driver Program \n",
    "\n",
    "print(Fibonacci(5)) \n",
    "\n",
    "#This code is contributed by Saket Modi \n"
   ]
  },
  {
   "cell_type": "markdown",
   "metadata": {},
   "source": [
    "# Factorial Easy logic"
   ]
  },
  {
   "cell_type": "code",
   "execution_count": 112,
   "metadata": {},
   "outputs": [
    {
     "data": {
      "text/plain": [
       "720"
      ]
     },
     "execution_count": 112,
     "metadata": {},
     "output_type": "execute_result"
    }
   ],
   "source": [
    "num = 6\n",
    "def factorial(n):\n",
    "    fact = 1\n",
    "    for i in range(1,n+1):\n",
    "        fact = fact*i\n",
    "    return fact\n",
    "factorial(num)"
   ]
  },
  {
   "cell_type": "code",
   "execution_count": 159,
   "metadata": {},
   "outputs": [
    {
     "name": "stdout",
     "output_type": "stream",
     "text": [
      "3\n",
      "5\n",
      "7\n",
      "11\n"
     ]
    }
   ],
   "source": [
    "\"From list type the number which is Prime\"\n",
    "for val in range(2,13):\n",
    "    for n in range(2, val//2 + 2):\n",
    "        if val % n == 0:\n",
    "            break\n",
    "        else:\n",
    "             if n == val//2 + 1:\n",
    "                    #print(n)\n",
    "                    print(val) \n",
    "    "
   ]
  },
  {
   "cell_type": "markdown",
   "metadata": {},
   "source": [
    "# Fibonacci Series"
   ]
  },
  {
   "cell_type": "code",
   "execution_count": 160,
   "metadata": {},
   "outputs": [
    {
     "name": "stdout",
     "output_type": "stream",
     "text": [
      "0\n",
      "1\n",
      "1\n",
      "2\n",
      "3\n",
      "5\n",
      "8\n",
      "13\n",
      "21\n",
      "34\n",
      "55\n"
     ]
    }
   ],
   "source": [
    "def fib(n):\n",
    "    a = 0\n",
    "    b = 1\n",
    "    if n==0:\n",
    "            print(\"0\")\n",
    "    else:\n",
    "            print(a)\n",
    "            print(b)\n",
    "            for i in range(2, n+1):\n",
    "                c = a + b\n",
    "                a = b\n",
    "                b = c\n",
    "                print(c)\n",
    "fib(10)"
   ]
  },
  {
   "cell_type": "markdown",
   "metadata": {},
   "source": [
    "# Program for Sum of squares of first n natural numbers"
   ]
  },
  {
   "cell_type": "code",
   "execution_count": 164,
   "metadata": {},
   "outputs": [
    {
     "data": {
      "text/plain": [
       "30"
      ]
     },
     "execution_count": 164,
     "metadata": {},
     "output_type": "execute_result"
    }
   ],
   "source": [
    "def sumsq(n):\n",
    "    \n",
    "    sum = 0\n",
    "    for i in range(1,n):\n",
    "        i = i*i\n",
    "        sum = sum + i\n",
    "    return(sum)\n",
    "\n",
    "sumsq(5)\n",
    "    \n",
    "    "
   ]
  },
  {
   "cell_type": "markdown",
   "metadata": {},
   "source": [
    "## Python Program for cube sum of first n natural numbers"
   ]
  },
  {
   "cell_type": "code",
   "execution_count": 166,
   "metadata": {},
   "outputs": [
    {
     "data": {
      "text/plain": [
       "100"
      ]
     },
     "execution_count": 166,
     "metadata": {},
     "output_type": "execute_result"
    }
   ],
   "source": [
    "def sumcube(n):\n",
    "    \n",
    "    sum = 0\n",
    "    for i in range(1,n):\n",
    "        i = i*i*i\n",
    "        sum = sum + i\n",
    "    return(sum)\n",
    "\n",
    "sumcube(5)"
   ]
  }
 ],
 "metadata": {
  "kernelspec": {
   "display_name": "Python 3",
   "language": "python",
   "name": "python3"
  },
  "language_info": {
   "codemirror_mode": {
    "name": "ipython",
    "version": 3
   },
   "file_extension": ".py",
   "mimetype": "text/x-python",
   "name": "python",
   "nbconvert_exporter": "python",
   "pygments_lexer": "ipython3",
   "version": "3.7.6"
  }
 },
 "nbformat": 4,
 "nbformat_minor": 2
}
